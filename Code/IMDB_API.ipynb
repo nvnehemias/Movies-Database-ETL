{
 "cells": [
  {
   "cell_type": "markdown",
   "metadata": {},
   "source": [
    "### ETL Project Dependencies\n",
    "\n",
    "#### Required: pip install imdbpy"
   ]
  },
  {
   "cell_type": "code",
   "execution_count": 1,
   "metadata": {},
   "outputs": [],
   "source": [
    "#!pip install imdbpy"
   ]
  },
  {
   "cell_type": "code",
   "execution_count": 2,
   "metadata": {},
   "outputs": [],
   "source": [
    "# dependencies\n",
    "from imdb import IMDb\n",
    "\n",
    "# create an instance of the IMDb class\n",
    "ia = IMDb()"
   ]
  },
  {
   "cell_type": "markdown",
   "metadata": {},
   "source": [
    "### Set up MongoDB connection and client\n",
    "\n",
    "#### Note: make sure `mongod` is running on a terminal"
   ]
  },
  {
   "cell_type": "code",
   "execution_count": 3,
   "metadata": {},
   "outputs": [],
   "source": [
    "import pymongo "
   ]
  },
  {
   "cell_type": "code",
   "execution_count": 4,
   "metadata": {},
   "outputs": [],
   "source": [
    "conn = 'mongodb://localhost:27017'\n",
    "client = pymongo.MongoClient(conn)"
   ]
  },
  {
   "cell_type": "markdown",
   "metadata": {},
   "source": [
    "#### Create a new database"
   ]
  },
  {
   "cell_type": "code",
   "execution_count": 5,
   "metadata": {},
   "outputs": [],
   "source": [
    "db = client.IMDB"
   ]
  },
  {
   "cell_type": "markdown",
   "metadata": {},
   "source": [
    "#### List all 2019 movies from CVS for use by IMDB API calls"
   ]
  },
  {
   "cell_type": "code",
   "execution_count": 6,
   "metadata": {},
   "outputs": [],
   "source": [
    "# dependencies\n",
    "import pandas as pd\n",
    "import os\n",
    "import csv"
   ]
  },
  {
   "cell_type": "code",
   "execution_count": 7,
   "metadata": {},
   "outputs": [
    {
     "data": {
      "text/html": [
       "<div>\n",
       "<style scoped>\n",
       "    .dataframe tbody tr th:only-of-type {\n",
       "        vertical-align: middle;\n",
       "    }\n",
       "\n",
       "    .dataframe tbody tr th {\n",
       "        vertical-align: top;\n",
       "    }\n",
       "\n",
       "    .dataframe thead th {\n",
       "        text-align: right;\n",
       "    }\n",
       "</style>\n",
       "<table border=\"1\" class=\"dataframe\">\n",
       "  <thead>\n",
       "    <tr style=\"text-align: right;\">\n",
       "      <th></th>\n",
       "      <th>Position</th>\n",
       "      <th>Const</th>\n",
       "      <th>Created</th>\n",
       "      <th>Modified</th>\n",
       "      <th>Description</th>\n",
       "      <th>Title</th>\n",
       "      <th>URL</th>\n",
       "      <th>Title Type</th>\n",
       "      <th>IMDb Rating</th>\n",
       "      <th>Runtime (mins)</th>\n",
       "      <th>Year</th>\n",
       "      <th>Genres</th>\n",
       "      <th>Num Votes</th>\n",
       "      <th>Release Date</th>\n",
       "      <th>Directors</th>\n",
       "    </tr>\n",
       "  </thead>\n",
       "  <tbody>\n",
       "    <tr>\n",
       "      <th>0</th>\n",
       "      <td>1</td>\n",
       "      <td>tt6823368</td>\n",
       "      <td>2018-09-03</td>\n",
       "      <td>2019-07-07</td>\n",
       "      <td>Release date - January 18th\\nStudio - Universa...</td>\n",
       "      <td>Glass</td>\n",
       "      <td>https://www.imdb.com/title/tt6823368/</td>\n",
       "      <td>movie</td>\n",
       "      <td>6.7</td>\n",
       "      <td>129.0</td>\n",
       "      <td>2019.0</td>\n",
       "      <td>Drama, Sci-Fi, Thriller</td>\n",
       "      <td>150546.0</td>\n",
       "      <td>2019-01-07</td>\n",
       "      <td>M. Night Shyamalan</td>\n",
       "    </tr>\n",
       "    <tr>\n",
       "      <th>1</th>\n",
       "      <td>2</td>\n",
       "      <td>tt6811018</td>\n",
       "      <td>2018-09-03</td>\n",
       "      <td>2019-07-07</td>\n",
       "      <td>Release date - January 25th\\nStudio - Twentiet...</td>\n",
       "      <td>The Kid Who Would Be King</td>\n",
       "      <td>https://www.imdb.com/title/tt6811018/</td>\n",
       "      <td>movie</td>\n",
       "      <td>6.0</td>\n",
       "      <td>120.0</td>\n",
       "      <td>2019.0</td>\n",
       "      <td>Action, Adventure, Family, Fantasy</td>\n",
       "      <td>9512.0</td>\n",
       "      <td>2019-01-16</td>\n",
       "      <td>Joe Cornish</td>\n",
       "    </tr>\n",
       "    <tr>\n",
       "      <th>2</th>\n",
       "      <td>3</td>\n",
       "      <td>tt5941692</td>\n",
       "      <td>2018-11-18</td>\n",
       "      <td>2019-07-07</td>\n",
       "      <td>Release date - February 1st\\nStudio - Sony Pic...</td>\n",
       "      <td>Miss Bala</td>\n",
       "      <td>https://www.imdb.com/title/tt5941692/</td>\n",
       "      <td>movie</td>\n",
       "      <td>5.6</td>\n",
       "      <td>104.0</td>\n",
       "      <td>2019.0</td>\n",
       "      <td>Action, Crime, Drama, Thriller</td>\n",
       "      <td>4612.0</td>\n",
       "      <td>2019-01-25</td>\n",
       "      <td>Catherine Hardwicke</td>\n",
       "    </tr>\n",
       "    <tr>\n",
       "      <th>3</th>\n",
       "      <td>4</td>\n",
       "      <td>tt3513498</td>\n",
       "      <td>2018-09-03</td>\n",
       "      <td>2019-07-07</td>\n",
       "      <td>Release date - February 8th\\nStudio - Warner B...</td>\n",
       "      <td>The Lego Movie 2: The Second Part</td>\n",
       "      <td>https://www.imdb.com/title/tt3513498/</td>\n",
       "      <td>movie</td>\n",
       "      <td>6.7</td>\n",
       "      <td>107.0</td>\n",
       "      <td>2019.0</td>\n",
       "      <td>Animation, Action, Adventure, Comedy, Family, ...</td>\n",
       "      <td>36374.0</td>\n",
       "      <td>2019-02-06</td>\n",
       "      <td>Mike Mitchell</td>\n",
       "    </tr>\n",
       "    <tr>\n",
       "      <th>4</th>\n",
       "      <td>5</td>\n",
       "      <td>tt7634968</td>\n",
       "      <td>2018-09-03</td>\n",
       "      <td>2019-07-07</td>\n",
       "      <td>Release date - February 8th\\nStudio - Paramoun...</td>\n",
       "      <td>What Men Want</td>\n",
       "      <td>https://www.imdb.com/title/tt7634968/</td>\n",
       "      <td>movie</td>\n",
       "      <td>5.1</td>\n",
       "      <td>117.0</td>\n",
       "      <td>2019.0</td>\n",
       "      <td>Comedy, Fantasy, Romance</td>\n",
       "      <td>12466.0</td>\n",
       "      <td>2019-01-10</td>\n",
       "      <td>Adam Shankman</td>\n",
       "    </tr>\n",
       "  </tbody>\n",
       "</table>\n",
       "</div>"
      ],
      "text/plain": [
       "   Position      Const     Created    Modified  \\\n",
       "0         1  tt6823368  2018-09-03  2019-07-07   \n",
       "1         2  tt6811018  2018-09-03  2019-07-07   \n",
       "2         3  tt5941692  2018-11-18  2019-07-07   \n",
       "3         4  tt3513498  2018-09-03  2019-07-07   \n",
       "4         5  tt7634968  2018-09-03  2019-07-07   \n",
       "\n",
       "                                         Description  \\\n",
       "0  Release date - January 18th\\nStudio - Universa...   \n",
       "1  Release date - January 25th\\nStudio - Twentiet...   \n",
       "2  Release date - February 1st\\nStudio - Sony Pic...   \n",
       "3  Release date - February 8th\\nStudio - Warner B...   \n",
       "4  Release date - February 8th\\nStudio - Paramoun...   \n",
       "\n",
       "                               Title                                    URL  \\\n",
       "0                              Glass  https://www.imdb.com/title/tt6823368/   \n",
       "1          The Kid Who Would Be King  https://www.imdb.com/title/tt6811018/   \n",
       "2                          Miss Bala  https://www.imdb.com/title/tt5941692/   \n",
       "3  The Lego Movie 2: The Second Part  https://www.imdb.com/title/tt3513498/   \n",
       "4                      What Men Want  https://www.imdb.com/title/tt7634968/   \n",
       "\n",
       "  Title Type  IMDb Rating  Runtime (mins)    Year  \\\n",
       "0      movie          6.7           129.0  2019.0   \n",
       "1      movie          6.0           120.0  2019.0   \n",
       "2      movie          5.6           104.0  2019.0   \n",
       "3      movie          6.7           107.0  2019.0   \n",
       "4      movie          5.1           117.0  2019.0   \n",
       "\n",
       "                                              Genres  Num Votes Release Date  \\\n",
       "0                            Drama, Sci-Fi, Thriller   150546.0   2019-01-07   \n",
       "1                 Action, Adventure, Family, Fantasy     9512.0   2019-01-16   \n",
       "2                     Action, Crime, Drama, Thriller     4612.0   2019-01-25   \n",
       "3  Animation, Action, Adventure, Comedy, Family, ...    36374.0   2019-02-06   \n",
       "4                           Comedy, Fantasy, Romance    12466.0   2019-01-10   \n",
       "\n",
       "             Directors  \n",
       "0   M. Night Shyamalan  \n",
       "1          Joe Cornish  \n",
       "2  Catherine Hardwicke  \n",
       "3        Mike Mitchell  \n",
       "4        Adam Shankman  "
      ]
     },
     "execution_count": 7,
     "metadata": {},
     "output_type": "execute_result"
    }
   ],
   "source": [
    "# store filepath in a variable\n",
    "data_file = \"../Data/all_2019_movies.csv\"\n",
    "# Read file with the pandas library\n",
    "data_file_df = pd.read_csv(data_file, encoding=\"ISO-8859-1\")\n",
    "# show header\n",
    "data_file_df.head()"
   ]
  },
  {
   "cell_type": "code",
   "execution_count": 8,
   "metadata": {},
   "outputs": [],
   "source": [
    "def last_name(name):\n",
    "    name_list = name.split(\" \")\n",
    "    last_item = name_list[len(name_list) - 1]\n",
    "    if last_item == \"\":\n",
    "        return None\n",
    "    else:\n",
    "        return last_item\n",
    "\n",
    "assert not last_name(\"Joe Cornish\") == \"Joe Cornish\", \"You just gave me back the whole name\"\n",
    "assert last_name(\"Joe Cornish\") == \"Cornish\", \"That is not the last name\"\n",
    "assert last_name(\"M. Night Shyamalan\") == \"Shyamalan\", \"You didn't handle cases where there are three names\"\n",
    "assert last_name(\"Cher\") == \"Cher\", \"You didn't handle cases where there is one name\"\n",
    "assert last_name(\"\") == None\n"
   ]
  },
  {
   "cell_type": "code",
   "execution_count": 9,
   "metadata": {},
   "outputs": [],
   "source": [
    "#Functions that obtain the last name of the directors\n",
    "#data_file_df['Directors_last'] = data_file_df['Directors'].map(lambda x: x.split(\" \")[-1])\n",
    "#data_file_df['Directors_last'] = data_file_df['Directors'].map(last_name)\n",
    "#data_file_df['Const_Clean'] = data_file_df['Const'].map(lambda x: x[2:])\n",
    "#data_file_df.head()"
   ]
  },
  {
   "cell_type": "code",
   "execution_count": 10,
   "metadata": {},
   "outputs": [],
   "source": [
    "#Function that cleans up the const value in dataframe from above\n",
    "def const_cleanup(const_value):\n",
    "    return const_value[2:]\n",
    "\n",
    "assert const_cleanup('tt7634968') == '7634968'"
   ]
  },
  {
   "cell_type": "code",
   "execution_count": 11,
   "metadata": {},
   "outputs": [],
   "source": [
    "#titles_df[\"Year\"] = titles_df['Title'].map(lambda x: my_result_search(x,'cover url'))"
   ]
  },
  {
   "cell_type": "code",
   "execution_count": 12,
   "metadata": {},
   "outputs": [],
   "source": [
    "titles_df = data_file_df.loc[:, [\"Title\"]].values.tolist()"
   ]
  },
  {
   "cell_type": "code",
   "execution_count": 13,
   "metadata": {},
   "outputs": [],
   "source": [
    "#my_list returns a list of movie names from csv file\n",
    "my_list = []\n",
    "for i in titles_df:\n",
    "    my_list.append(i[0])\n",
    "#my_list"
   ]
  },
  {
   "cell_type": "code",
   "execution_count": 14,
   "metadata": {},
   "outputs": [],
   "source": [
    "#movies = db.movies.find()"
   ]
  },
  {
   "cell_type": "code",
   "execution_count": 15,
   "metadata": {},
   "outputs": [],
   "source": [
    "#movie_titles = []\n",
    "#for i in range(len(titles_df)):\n",
    "#    movie_titles.append(titles_df[i][0])"
   ]
  },
  {
   "cell_type": "markdown",
   "metadata": {},
   "source": [
    "#### Loop thru the title list, pull their title data and push to MongoDB database"
   ]
  },
  {
   "cell_type": "code",
   "execution_count": 16,
   "metadata": {},
   "outputs": [],
   "source": [
    "import my_functions as nv"
   ]
  },
  {
   "cell_type": "code",
   "execution_count": 17,
   "metadata": {},
   "outputs": [],
   "source": [
    "from imdb import IMDb\n",
    "\n",
    "\n",
    "def my_result_search(title_name: str, movie_key: str = 'long imdb title') -> str:\n",
    "    \"\"\"This will search for a movie title on imdb's api\n",
    "    \n",
    "    Input: Movie Title as a string\n",
    "    Returns: Movie object from IMDB\n",
    "    \"\"\"\n",
    "    try: \n",
    "        ia = IMDb()\n",
    "        return ia.search_movie(title_name)[0][movie_key]\n",
    "    except:\n",
    "        return \"NA\""
   ]
  },
  {
   "cell_type": "code",
   "execution_count": 18,
   "metadata": {},
   "outputs": [],
   "source": [
    "def multi_result_search(my_list: list, our_key) -> dict:\n",
    "    \"\"\"\n",
    "    Inputs: Take in a list of title names and for our_keys input either a list or a single search key\n",
    "    Outputs: Return a dictionary of results. \n",
    "    \"\"\"\n",
    "    title_result_list = []\n",
    "    for title in my_list:\n",
    "        title_result = {}\n",
    "        if not type(our_key) == list:\n",
    "            title_result[our_key] = my_result_search(title, our_key)\n",
    "            title_result_list.append(title_result)\n",
    "        else:\n",
    "            for i in our_key:\n",
    "                title_result[i] = my_result_search(title, i)\n",
    "            title_result_list.append(title_result)\n",
    "    return title_result_list\n",
    "    print(title_result_list)"
   ]
  },
  {
   "cell_type": "code",
   "execution_count": 19,
   "metadata": {},
   "outputs": [],
   "source": [
    "all_keys = ['title','year']"
   ]
  },
  {
   "cell_type": "code",
   "execution_count": 60,
   "metadata": {},
   "outputs": [
    {
     "data": {
      "text/plain": [
       "'The Hunt'"
      ]
     },
     "execution_count": 60,
     "metadata": {},
     "output_type": "execute_result"
    }
   ],
   "source": [
    "#We pop the movie 'The Hunt' because there is no year key for the movie\n",
    "my_list.index('The Hunt')\n",
    "my_list.pop(71)"
   ]
  },
  {
   "cell_type": "code",
   "execution_count": 20,
   "metadata": {},
   "outputs": [
    {
     "data": {
      "text/plain": [
       "'Once Upon a Time ... in Hollywood'"
      ]
     },
     "execution_count": 20,
     "metadata": {},
     "output_type": "execute_result"
    }
   ],
   "source": [
    "#We pop 'Once Upon a Time ... in Hollywood' because mongo does not allow for '...'\n",
    "my_list.index('Once Upon a Time ... in Hollywood')\n",
    "my_list.pop(54)"
   ]
  },
  {
   "cell_type": "code",
   "execution_count": 66,
   "metadata": {},
   "outputs": [
    {
     "data": {
      "text/plain": [
       "'Eli'"
      ]
     },
     "execution_count": 66,
     "metadata": {},
     "output_type": "execute_result"
    }
   ],
   "source": [
    "#movie does not have 'year' in the database\n",
    "my_list.index('Eli')\n",
    "my_list.pop(78)"
   ]
  },
  {
   "cell_type": "code",
   "execution_count": 65,
   "metadata": {},
   "outputs": [
    {
     "data": {
      "text/plain": [
       "['title',\n",
       " 'kind',\n",
       " 'cover url',\n",
       " 'canonical title',\n",
       " 'long imdb title',\n",
       " 'long imdb canonical title',\n",
       " 'smart canonical title',\n",
       " 'smart long imdb canonical title',\n",
       " 'full-size cover url']"
      ]
     },
     "execution_count": 65,
     "metadata": {},
     "output_type": "execute_result"
    }
   ],
   "source": [
    "ia.search_movie('Eli')[0].keys()"
   ]
  },
  {
   "cell_type": "code",
   "execution_count": 21,
   "metadata": {},
   "outputs": [],
   "source": [
    "#run the functions we defined and we get a dictionary as output\n",
    "#if 'nv.multi_result_search()' doesn't work, run the 'multi_result_search' cell from above and remove 'nv' \n",
    "new_movies_list = multi_result_search(my_list, all_keys)"
   ]
  },
  {
   "cell_type": "code",
   "execution_count": 69,
   "metadata": {},
   "outputs": [],
   "source": [
    "# movie_keys = ['title','year']\n",
    "# for title_name in my_list:\n",
    "#         print(title_name)\n",
    "#         print(ia.search_movie(title_name)[0]['year'])"
   ]
  },
  {
   "cell_type": "code",
   "execution_count": 22,
   "metadata": {},
   "outputs": [
    {
     "data": {
      "text/plain": [
       "[{'title': 'Glass', 'year': 2019},\n",
       " {'title': 'The Kid Who Would Be King', 'year': 2019},\n",
       " {'title': 'Miss Bala', 'year': 2019},\n",
       " {'title': 'The Lego Movie 2: The Second Part', 'year': 2019},\n",
       " {'title': 'What Men Want', 'year': 2019},\n",
       " {'title': 'Alita: Battle Angel', 'year': 2019},\n",
       " {'title': 'Fighting with My Family', 'year': 2019},\n",
       " {'title': \"Isn't It Romantic\", 'year': 2019},\n",
       " {'title': 'Happy Death Day 2U', 'year': 2019},\n",
       " {'title': 'How to Train Your Dragon: The Hidden World', 'year': 2019},\n",
       " {'title': 'A Madea Family Funeral', 'year': 2019},\n",
       " {'title': 'Shazam!', 'year': 2019},\n",
       " {'title': 'The Kid', 'year': 2019},\n",
       " {'title': 'Wonder Park', 'year': 2019},\n",
       " {'title': 'The Hummingbird Project', 'year': 2018},\n",
       " {'title': 'The Aftermath', 'year': 2019},\n",
       " {'title': 'Us', 'year': 2019},\n",
       " {'title': 'Hotel Mumbai', 'year': 2018},\n",
       " {'title': 'Dumbo', 'year': 2019},\n",
       " {'title': 'The Beach Bum', 'year': 2019},\n",
       " {'title': 'Shazam!', 'year': 2019},\n",
       " {'title': 'Pet Sematary', 'year': 2019},\n",
       " {'title': 'The Best of Enemies', 'year': 2019},\n",
       " {'title': 'Hellboy', 'year': 2019},\n",
       " {'title': 'Little', 'year': 2019},\n",
       " {'title': 'Missing Link', 'year': 2019},\n",
       " {'title': 'The Curse of La Llorona', 'year': 2019},\n",
       " {'title': 'Avengers: Endgame', 'year': 2019},\n",
       " {'title': 'UglyDolls', 'year': 2019},\n",
       " {'title': 'Long Shot', 'year': 2019},\n",
       " {'title': 'Pokémon Detective Pikachu', 'year': 2019},\n",
       " {'title': 'The Hustle', 'year': 2019},\n",
       " {'title': 'Tolkien', 'year': 2019},\n",
       " {'title': 'John Wick: Chapter 3 - Parabellum', 'year': 2019},\n",
       " {'title': \"A Dog's Journey\", 'year': 2019},\n",
       " {'title': 'Aladdin', 'year': 2019},\n",
       " {'title': 'Brightburn', 'year': 2019},\n",
       " {'title': 'Booksmart', 'year': 2019},\n",
       " {'title': 'Godzilla: King of the Monsters', 'year': 2019},\n",
       " {'title': 'Rocketman', 'year': 2019},\n",
       " {'title': 'Dark Phoenix', 'year': 2019},\n",
       " {'title': 'The Secret Life of Pets 2', 'year': 2019},\n",
       " {'title': 'Men in Black: International', 'year': 2019},\n",
       " {'title': 'Shaft', 'year': 2019},\n",
       " {'title': 'Toy Story 4', 'year': 2019},\n",
       " {'title': \"Child's Play\", 'year': 2019},\n",
       " {'title': 'Annabelle Comes Home', 'year': 2019},\n",
       " {'title': 'Yesterday', 'year': 2019},\n",
       " {'title': 'Spider-Man: Far from Home', 'year': 2019},\n",
       " {'title': 'Stuber', 'year': 2019},\n",
       " {'title': 'Crawl', 'year': 2019},\n",
       " {'title': 'The Farewell', 'year': 2019},\n",
       " {'title': 'The Art of Self-Defense', 'year': 2019},\n",
       " {'title': 'The Lion King', 'year': 2019},\n",
       " {'title': 'Fast & Furious Presents: Hobbs & Shaw', 'year': 2019},\n",
       " {'title': 'Scary Stories to Tell in the Dark', 'year': 2019},\n",
       " {'title': 'Dora and the Lost City of Gold', 'year': 2019},\n",
       " {'title': 'The Kitchen', 'year': 2019},\n",
       " {'title': 'The Art of Racing in the Rain', 'year': 2019},\n",
       " {'title': 'The Angry Birds Movie 2', 'year': 2019},\n",
       " {'title': 'Good Boys', 'year': 2019},\n",
       " {'title': \"Where'd You Go, Bernadette\", 'year': 2019},\n",
       " {'title': 'Ready or Not', 'year': 2019},\n",
       " {'title': 'It Chapter Two', 'year': 2019},\n",
       " {'title': 'The Goldfinch', 'year': 2019},\n",
       " {'title': 'Hustlers', 'year': 2019},\n",
       " {'title': 'Ad Astra', 'year': 2019},\n",
       " {'title': 'Rambo: Last Blood', 'year': 2019},\n",
       " {'title': 'Downton Abbey', 'year': 2019},\n",
       " {'title': 'Abominable', 'year': 2019},\n",
       " {'title': 'The Hunt', 'year': 'NA'},\n",
       " {'title': 'Doom: Annihilation', 'year': 2019},\n",
       " {'title': 'Joker', 'year': 2019},\n",
       " {'title': 'Lucy in the Sky', 'year': 2019},\n",
       " {'title': 'Gemini Man', 'year': 2019},\n",
       " {'title': 'Zombieland: Double Tap', 'year': 2019},\n",
       " {'title': 'The Addams Family', 'year': 2019},\n",
       " {'title': 'Maleficent: Mistress of Evil', 'year': 2019},\n",
       " {'title': 'Jojo Rabbit', 'year': 2019},\n",
       " {'title': 'Eli', 'year': 'NA'},\n",
       " {'title': 'Terminator: Dark Fate', 'year': 2019},\n",
       " {'title': 'Harriet', 'year': 2019},\n",
       " {'title': 'Motherless Brooklyn', 'year': 2019},\n",
       " {'title': 'Doctor Sleep', 'year': 2019},\n",
       " {'title': 'Ford v Ferrari', 'year': 2019},\n",
       " {'title': \"Charlie's Angels\", 'year': 2019},\n",
       " {'title': 'The Good Liar', 'year': 2019},\n",
       " {'title': 'Last Christmas', 'year': 2019},\n",
       " {'title': 'Frozen II', 'year': 2019},\n",
       " {'title': 'A Beautiful Day in the Neighborhood', 'year': 2019},\n",
       " {'title': 'The Rhythm Section', 'year': 2019},\n",
       " {'title': 'Knives Out', 'year': 2019},\n",
       " {'title': 'Queen & Slim', 'year': 2019},\n",
       " {'title': 'Jumanji: The Next Level', 'year': 2019},\n",
       " {'title': 'Playmobil: The Movie', 'year': 2019},\n",
       " {'title': 'Black Christmas', 'year': 2019},\n",
       " {'title': 'Star Wars: The Rise of Skywalker', 'year': 2019},\n",
       " {'title': 'Cats', 'year': 2019},\n",
       " {'title': '1917', 'year': 2019},\n",
       " {'title': 'Little Women', 'year': 2019},\n",
       " {'title': 'Spies in Disguise', 'year': 2019},\n",
       " {'title': 'Superintelligence', 'year': 2019},\n",
       " {'title': 'Wendy and Lucy', 'year': 2008}]"
      ]
     },
     "execution_count": 22,
     "metadata": {},
     "output_type": "execute_result"
    }
   ],
   "source": [
    "new_movies_list"
   ]
  },
  {
   "cell_type": "code",
   "execution_count": 71,
   "metadata": {},
   "outputs": [
    {
     "data": {
      "text/plain": [
       "Collection(Database(MongoClient(host=['localhost:27017'], document_class=dict, tz_aware=False, connect=True), 'IMDB'), 'movie_info_db')"
      ]
     },
     "execution_count": 71,
     "metadata": {},
     "output_type": "execute_result"
    }
   ],
   "source": [
    "#Declare collection 'movies_info_db'\n",
    "db.movie_info_db"
   ]
  },
  {
   "cell_type": "code",
   "execution_count": 72,
   "metadata": {},
   "outputs": [
    {
     "data": {
      "text/plain": [
       "<pymongo.cursor.Cursor at 0x11855dba8>"
      ]
     },
     "execution_count": 72,
     "metadata": {},
     "output_type": "execute_result"
    }
   ],
   "source": [
    "#Insert into database\n",
    "for i in new_movies_list:\n",
    "    db.movie_info_db.insert_one(i)\n",
    "\n",
    "db.movie_info_db.find()"
   ]
  }
 ],
 "metadata": {
  "kernelspec": {
   "display_name": "Python 3",
   "language": "python",
   "name": "python3"
  },
  "language_info": {
   "codemirror_mode": {
    "name": "ipython",
    "version": 3
   },
   "file_extension": ".py",
   "mimetype": "text/x-python",
   "name": "python",
   "nbconvert_exporter": "python",
   "pygments_lexer": "ipython3",
   "version": "3.7.3"
  }
 },
 "nbformat": 4,
 "nbformat_minor": 2
}
