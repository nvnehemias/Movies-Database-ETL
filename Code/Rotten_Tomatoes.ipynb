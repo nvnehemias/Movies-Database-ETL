{
 "cells": [
  {
   "cell_type": "markdown",
   "metadata": {},
   "source": [
    "### ETL Project"
   ]
  },
  {
   "cell_type": "markdown",
   "metadata": {},
   "source": [
    "#### Required: pip install rotten_tomatoes_client"
   ]
  },
  {
   "cell_type": "code",
   "execution_count": 1,
   "metadata": {},
   "outputs": [],
   "source": [
    "#!pip install rotten_tomatoes_client"
   ]
  },
  {
   "cell_type": "markdown",
   "metadata": {},
   "source": [
    "#### List all 2019 movies from CVS for use by IMDB API calls"
   ]
  },
  {
   "cell_type": "code",
   "execution_count": 2,
   "metadata": {},
   "outputs": [],
   "source": [
    "# dependencies\n",
    "import pandas as pd\n",
    "import os\n",
    "import csv"
   ]
  },
  {
   "cell_type": "code",
   "execution_count": 3,
   "metadata": {},
   "outputs": [
    {
     "data": {
      "text/html": [
       "<div>\n",
       "<style scoped>\n",
       "    .dataframe tbody tr th:only-of-type {\n",
       "        vertical-align: middle;\n",
       "    }\n",
       "\n",
       "    .dataframe tbody tr th {\n",
       "        vertical-align: top;\n",
       "    }\n",
       "\n",
       "    .dataframe thead th {\n",
       "        text-align: right;\n",
       "    }\n",
       "</style>\n",
       "<table border=\"1\" class=\"dataframe\">\n",
       "  <thead>\n",
       "    <tr style=\"text-align: right;\">\n",
       "      <th></th>\n",
       "      <th>Position</th>\n",
       "      <th>Const</th>\n",
       "      <th>Created</th>\n",
       "      <th>Modified</th>\n",
       "      <th>Description</th>\n",
       "      <th>Title</th>\n",
       "      <th>URL</th>\n",
       "      <th>Title Type</th>\n",
       "      <th>IMDb Rating</th>\n",
       "      <th>Runtime (mins)</th>\n",
       "      <th>Year</th>\n",
       "      <th>Genres</th>\n",
       "      <th>Num Votes</th>\n",
       "      <th>Release Date</th>\n",
       "      <th>Directors</th>\n",
       "    </tr>\n",
       "  </thead>\n",
       "  <tbody>\n",
       "    <tr>\n",
       "      <th>0</th>\n",
       "      <td>1</td>\n",
       "      <td>tt6823368</td>\n",
       "      <td>2018-09-03</td>\n",
       "      <td>2019-07-07</td>\n",
       "      <td>Release date - January 18th\\nStudio - Universa...</td>\n",
       "      <td>Glass</td>\n",
       "      <td>https://www.imdb.com/title/tt6823368/</td>\n",
       "      <td>movie</td>\n",
       "      <td>6.7</td>\n",
       "      <td>129.0</td>\n",
       "      <td>2019.0</td>\n",
       "      <td>Drama, Sci-Fi, Thriller</td>\n",
       "      <td>150546.0</td>\n",
       "      <td>2019-01-07</td>\n",
       "      <td>M. Night Shyamalan</td>\n",
       "    </tr>\n",
       "    <tr>\n",
       "      <th>1</th>\n",
       "      <td>2</td>\n",
       "      <td>tt6811018</td>\n",
       "      <td>2018-09-03</td>\n",
       "      <td>2019-07-07</td>\n",
       "      <td>Release date - January 25th\\nStudio - Twentiet...</td>\n",
       "      <td>The Kid Who Would Be King</td>\n",
       "      <td>https://www.imdb.com/title/tt6811018/</td>\n",
       "      <td>movie</td>\n",
       "      <td>6.0</td>\n",
       "      <td>120.0</td>\n",
       "      <td>2019.0</td>\n",
       "      <td>Action, Adventure, Family, Fantasy</td>\n",
       "      <td>9512.0</td>\n",
       "      <td>2019-01-16</td>\n",
       "      <td>Joe Cornish</td>\n",
       "    </tr>\n",
       "    <tr>\n",
       "      <th>2</th>\n",
       "      <td>3</td>\n",
       "      <td>tt5941692</td>\n",
       "      <td>2018-11-18</td>\n",
       "      <td>2019-07-07</td>\n",
       "      <td>Release date - February 1st\\nStudio - Sony Pic...</td>\n",
       "      <td>Miss Bala</td>\n",
       "      <td>https://www.imdb.com/title/tt5941692/</td>\n",
       "      <td>movie</td>\n",
       "      <td>5.6</td>\n",
       "      <td>104.0</td>\n",
       "      <td>2019.0</td>\n",
       "      <td>Action, Crime, Drama, Thriller</td>\n",
       "      <td>4612.0</td>\n",
       "      <td>2019-01-25</td>\n",
       "      <td>Catherine Hardwicke</td>\n",
       "    </tr>\n",
       "    <tr>\n",
       "      <th>3</th>\n",
       "      <td>4</td>\n",
       "      <td>tt3513498</td>\n",
       "      <td>2018-09-03</td>\n",
       "      <td>2019-07-07</td>\n",
       "      <td>Release date - February 8th\\nStudio - Warner B...</td>\n",
       "      <td>The Lego Movie 2: The Second Part</td>\n",
       "      <td>https://www.imdb.com/title/tt3513498/</td>\n",
       "      <td>movie</td>\n",
       "      <td>6.7</td>\n",
       "      <td>107.0</td>\n",
       "      <td>2019.0</td>\n",
       "      <td>Animation, Action, Adventure, Comedy, Family, ...</td>\n",
       "      <td>36374.0</td>\n",
       "      <td>2019-02-06</td>\n",
       "      <td>Mike Mitchell</td>\n",
       "    </tr>\n",
       "    <tr>\n",
       "      <th>4</th>\n",
       "      <td>5</td>\n",
       "      <td>tt7634968</td>\n",
       "      <td>2018-09-03</td>\n",
       "      <td>2019-07-07</td>\n",
       "      <td>Release date - February 8th\\nStudio - Paramoun...</td>\n",
       "      <td>What Men Want</td>\n",
       "      <td>https://www.imdb.com/title/tt7634968/</td>\n",
       "      <td>movie</td>\n",
       "      <td>5.1</td>\n",
       "      <td>117.0</td>\n",
       "      <td>2019.0</td>\n",
       "      <td>Comedy, Fantasy, Romance</td>\n",
       "      <td>12466.0</td>\n",
       "      <td>2019-01-10</td>\n",
       "      <td>Adam Shankman</td>\n",
       "    </tr>\n",
       "  </tbody>\n",
       "</table>\n",
       "</div>"
      ],
      "text/plain": [
       "   Position      Const     Created    Modified  \\\n",
       "0         1  tt6823368  2018-09-03  2019-07-07   \n",
       "1         2  tt6811018  2018-09-03  2019-07-07   \n",
       "2         3  tt5941692  2018-11-18  2019-07-07   \n",
       "3         4  tt3513498  2018-09-03  2019-07-07   \n",
       "4         5  tt7634968  2018-09-03  2019-07-07   \n",
       "\n",
       "                                         Description  \\\n",
       "0  Release date - January 18th\\nStudio - Universa...   \n",
       "1  Release date - January 25th\\nStudio - Twentiet...   \n",
       "2  Release date - February 1st\\nStudio - Sony Pic...   \n",
       "3  Release date - February 8th\\nStudio - Warner B...   \n",
       "4  Release date - February 8th\\nStudio - Paramoun...   \n",
       "\n",
       "                               Title                                    URL  \\\n",
       "0                              Glass  https://www.imdb.com/title/tt6823368/   \n",
       "1          The Kid Who Would Be King  https://www.imdb.com/title/tt6811018/   \n",
       "2                          Miss Bala  https://www.imdb.com/title/tt5941692/   \n",
       "3  The Lego Movie 2: The Second Part  https://www.imdb.com/title/tt3513498/   \n",
       "4                      What Men Want  https://www.imdb.com/title/tt7634968/   \n",
       "\n",
       "  Title Type  IMDb Rating  Runtime (mins)    Year  \\\n",
       "0      movie          6.7           129.0  2019.0   \n",
       "1      movie          6.0           120.0  2019.0   \n",
       "2      movie          5.6           104.0  2019.0   \n",
       "3      movie          6.7           107.0  2019.0   \n",
       "4      movie          5.1           117.0  2019.0   \n",
       "\n",
       "                                              Genres  Num Votes Release Date  \\\n",
       "0                            Drama, Sci-Fi, Thriller   150546.0   2019-01-07   \n",
       "1                 Action, Adventure, Family, Fantasy     9512.0   2019-01-16   \n",
       "2                     Action, Crime, Drama, Thriller     4612.0   2019-01-25   \n",
       "3  Animation, Action, Adventure, Comedy, Family, ...    36374.0   2019-02-06   \n",
       "4                           Comedy, Fantasy, Romance    12466.0   2019-01-10   \n",
       "\n",
       "             Directors  \n",
       "0   M. Night Shyamalan  \n",
       "1          Joe Cornish  \n",
       "2  Catherine Hardwicke  \n",
       "3        Mike Mitchell  \n",
       "4        Adam Shankman  "
      ]
     },
     "execution_count": 3,
     "metadata": {},
     "output_type": "execute_result"
    }
   ],
   "source": [
    "# store filepath in a variable\n",
    "data_file = \"../Data/all_2019_movies.csv\"\n",
    "# Read file with the pandas library\n",
    "data_file_df = pd.read_csv(data_file, encoding=\"ISO-8859-1\")\n",
    "# show header\n",
    "data_file_df.head()"
   ]
  },
  {
   "cell_type": "code",
   "execution_count": 4,
   "metadata": {},
   "outputs": [],
   "source": [
    "titles_df = data_file_df.loc[:, [\"Title\"]].values.tolist()"
   ]
  },
  {
   "cell_type": "code",
   "execution_count": 5,
   "metadata": {
    "scrolled": true
   },
   "outputs": [
    {
     "data": {
      "text/plain": [
       "['Glass',\n",
       " 'The Kid Who Would Be King',\n",
       " 'Miss Bala',\n",
       " 'The Lego Movie 2: The Second Part',\n",
       " 'What Men Want',\n",
       " 'Alita: Battle Angel',\n",
       " 'Fighting with My Family',\n",
       " \"Isn't It Romantic\",\n",
       " 'Happy Death Day 2U',\n",
       " 'How to Train Your Dragon: The Hidden World',\n",
       " 'A Madea Family Funeral',\n",
       " 'Captain Marvel',\n",
       " 'The Kid',\n",
       " 'Wonder Park',\n",
       " 'The Hummingbird Project',\n",
       " 'The Aftermath',\n",
       " 'Us',\n",
       " 'Hotel Mumbai',\n",
       " 'Dumbo',\n",
       " 'The Beach Bum',\n",
       " 'Shazam!',\n",
       " 'Pet Sematary',\n",
       " 'The Best of Enemies',\n",
       " 'Hellboy',\n",
       " 'Little',\n",
       " 'Missing Link',\n",
       " 'The Curse of La Llorona',\n",
       " 'Avengers: Endgame',\n",
       " 'UglyDolls',\n",
       " 'Long Shot',\n",
       " 'Pokémon Detective Pikachu',\n",
       " 'The Hustle',\n",
       " 'Tolkien',\n",
       " 'John Wick: Chapter 3 - Parabellum',\n",
       " \"A Dog's Journey\",\n",
       " 'Aladdin',\n",
       " 'Brightburn',\n",
       " 'Booksmart',\n",
       " 'Godzilla: King of the Monsters',\n",
       " 'Rocketman',\n",
       " 'Dark Phoenix',\n",
       " 'The Secret Life of Pets 2',\n",
       " 'Men in Black: International',\n",
       " 'Shaft',\n",
       " 'Toy Story 4',\n",
       " \"Child's Play\",\n",
       " 'Annabelle Comes Home',\n",
       " 'Yesterday',\n",
       " 'Spider-Man: Far from Home',\n",
       " 'Stuber',\n",
       " 'Crawl',\n",
       " 'The Farewell',\n",
       " 'The Art of Self-Defense',\n",
       " 'The Lion King',\n",
       " 'Once Upon a Time ... in Hollywood',\n",
       " 'Fast & Furious Presents: Hobbs & Shaw',\n",
       " 'Scary Stories to Tell in the Dark',\n",
       " 'Dora and the Lost City of Gold',\n",
       " 'The Kitchen',\n",
       " 'The Art of Racing in the Rain',\n",
       " 'The Angry Birds Movie 2',\n",
       " 'Good Boys',\n",
       " \"Where'd You Go, Bernadette\",\n",
       " 'Ready or Not',\n",
       " 'It Chapter Two',\n",
       " 'The Goldfinch',\n",
       " 'Hustlers',\n",
       " 'Ad Astra',\n",
       " 'Rambo: Last Blood',\n",
       " 'Downton Abbey',\n",
       " 'Abominable',\n",
       " 'The Hunt',\n",
       " 'Doom: Annihilation',\n",
       " 'Joker',\n",
       " 'Lucy in the Sky',\n",
       " 'Gemini Man',\n",
       " 'Zombieland: Double Tap',\n",
       " 'The Addams Family',\n",
       " 'Maleficent: Mistress of Evil',\n",
       " 'Jojo Rabbit',\n",
       " 'Eli',\n",
       " 'Terminator: Dark Fate',\n",
       " 'Harriet',\n",
       " 'Motherless Brooklyn',\n",
       " 'Doctor Sleep',\n",
       " 'Ford v Ferrari',\n",
       " \"Charlie's Angels\",\n",
       " 'The Good Liar',\n",
       " 'Last Christmas',\n",
       " 'Frozen II',\n",
       " 'A Beautiful Day in the Neighborhood',\n",
       " 'The Rhythm Section',\n",
       " 'Knives Out',\n",
       " 'Queen & Slim',\n",
       " 'Jumanji: The Next Level',\n",
       " 'Playmobil: The Movie',\n",
       " 'Black Christmas',\n",
       " 'Star Wars: The Rise of Skywalker',\n",
       " 'Cats',\n",
       " '1917',\n",
       " 'Little Women',\n",
       " 'Spies in Disguise',\n",
       " 'Superintelligence',\n",
       " 'Wendy']"
      ]
     },
     "execution_count": 5,
     "metadata": {},
     "output_type": "execute_result"
    }
   ],
   "source": [
    "#my_list returns a list of movie names from csv file\n",
    "movies_2019_list = []\n",
    "for i in titles_df:\n",
    "    movies_2019_list.append(i[0])\n",
    "movies_2019_list"
   ]
  },
  {
   "cell_type": "markdown",
   "metadata": {},
   "source": [
    "# Rotten Tomatoes Work"
   ]
  },
  {
   "cell_type": "code",
   "execution_count": 6,
   "metadata": {},
   "outputs": [],
   "source": [
    "#Import Dependencies from rotten tomatoes \n",
    "from rotten_tomatoes_client import RottenTomatoesClient, MovieBrowsingQuery, Service, Genre, SortBy, MovieBrowsingCategory\n"
   ]
  },
  {
   "cell_type": "code",
   "execution_count": 16,
   "metadata": {},
   "outputs": [],
   "source": [
    "#Function that loops through a list and attains the rotten tomatoes score of the corresponding movie\n",
    "def check_movie_2019(movie_list:list):\n",
    "    rotten_tomatoes_list = []\n",
    "    for j in movie_list:\n",
    "        try:\n",
    "            rotten_movie = RottenTomatoesClient.search(term = j)    \n",
    "            for i in range(len(rotten_movie[\"movies\"])):\n",
    "                rotten_score = {}\n",
    "                try:\n",
    "                    if rotten_movie[\"movies\"][i][\"year\"] == 2019:\n",
    "                        rotten_score[\"title\"] = j\n",
    "                        rotten_score[\"rotten_score\"] = rotten_movie[\"movies\"][i][\"meterScore\"]\n",
    "                        break\n",
    "                    else:\n",
    "                        rotten_score[\"title\"] = j\n",
    "                        rotten_score[\"Rotten_Score\"] = \"NA\"\n",
    "                except:\n",
    "                    rotten_score[\"title\"] = j\n",
    "                    rotten_score[\"rotten_score\"] = \"NA\"\n",
    "        except:\n",
    "            rotten_score[\"title\"] = f\"{j}\"\n",
    "            rotten_score[\"rotten_score\"] = \"NA\"\n",
    "\n",
    "                \n",
    "        rotten_tomatoes_list.append(rotten_score)\n",
    "    return rotten_tomatoes_list\n",
    "    print(rotten_tomatoes_list)"
   ]
  },
  {
   "cell_type": "code",
   "execution_count": 17,
   "metadata": {},
   "outputs": [],
   "source": [
    "#Run through out list of 2019 movies\n",
    "rotten_score = check_movie_2019(movies_2019_list)"
   ]
  },
  {
   "cell_type": "code",
   "execution_count": 18,
   "metadata": {},
   "outputs": [
    {
     "data": {
      "text/plain": [
       "[{'title': 'Glass', 'rotten_score': 37},\n",
       " {'title': 'The Kid Who Would Be King', 'rotten_score': 89},\n",
       " {'title': 'Miss Bala', 'rotten_score': 23},\n",
       " {'title': 'The Lego Movie 2: The Second Part', 'rotten_score': 85},\n",
       " {'title': 'What Men Want', 'rotten_score': 44},\n",
       " {'title': 'Alita: Battle Angel', 'rotten_score': 60},\n",
       " {'title': 'Fighting with My Family', 'rotten_score': 92},\n",
       " {'title': \"Isn't It Romantic\", 'rotten_score': 69},\n",
       " {'title': 'Happy Death Day 2U', 'rotten_score': 70},\n",
       " {'title': 'How to Train Your Dragon: The Hidden World', 'rotten_score': 91},\n",
       " {'title': 'A Madea Family Funeral', 'rotten_score': 12},\n",
       " {'title': 'Captain Marvel', 'rotten_score': 78},\n",
       " {'title': 'The Kid', 'rotten_score': 'NA'},\n",
       " {'title': 'Wonder Park', 'rotten_score': 34},\n",
       " {'title': 'The Hummingbird Project', 'rotten_score': 58},\n",
       " {'title': 'The Aftermath', 'rotten_score': 27},\n",
       " {'title': 'Us', 'rotten_score': 93},\n",
       " {'title': 'Hotel Mumbai', 'rotten_score': 77},\n",
       " {'title': 'Dumbo', 'rotten_score': 47},\n",
       " {'title': 'The Beach Bum', 'rotten_score': 56},\n",
       " {'title': 'Shazam!', 'rotten_score': 91},\n",
       " {'title': 'Pet Sematary', 'rotten_score': 58},\n",
       " {'title': 'The Best of Enemies', 'rotten_score': 53},\n",
       " {'title': 'Hellboy', 'rotten_score': 17},\n",
       " {'title': 'Little', 'rotten_score': 46},\n",
       " {'title': 'Missing Link', 'rotten_score': 89},\n",
       " {'title': 'The Curse of La Llorona', 'rotten_score': 30},\n",
       " {'title': 'Avengers: Endgame', 'rotten_score': 94},\n",
       " {'title': 'UglyDolls', 'rotten_score': 27},\n",
       " {'title': 'Long Shot', 'rotten_score': 81},\n",
       " {'title': 'Pokémon Detective Pikachu', 'rotten_score': 68},\n",
       " {'title': 'The Hustle', 'rotten_score': 14},\n",
       " {'title': 'Tolkien', 'rotten_score': 51},\n",
       " {'title': 'John Wick: Chapter 3 - Parabellum', 'rotten_score': 90},\n",
       " {'title': \"A Dog's Journey\", 'rotten_score': 50},\n",
       " {'title': 'Aladdin', 'rotten_score': 57},\n",
       " {'title': 'Brightburn', 'rotten_score': 57},\n",
       " {'title': 'Booksmart', 'rotten_score': 97},\n",
       " {'title': 'Godzilla: King of the Monsters', 'rotten_score': 41},\n",
       " {'title': 'Rocketman', 'rotten_score': 89},\n",
       " {'title': 'Dark Phoenix', 'rotten_score': 23},\n",
       " {'title': 'The Secret Life of Pets 2', 'rotten_score': 60},\n",
       " {'title': 'Men in Black: International', 'rotten_score': 22},\n",
       " {'title': 'Shaft', 'rotten_score': 32},\n",
       " {'title': 'Toy Story 4', 'rotten_score': 97},\n",
       " {'title': \"Child's Play\", 'rotten_score': 64},\n",
       " {'title': 'Annabelle Comes Home', 'rotten_score': 65},\n",
       " {'title': 'Yesterday', 'rotten_score': 63},\n",
       " {'title': 'Spider-Man: Far from Home', 'rotten_score': 90},\n",
       " {'title': 'Stuber', 'rotten_score': 42},\n",
       " {'title': 'Crawl', 'rotten_score': 82},\n",
       " {'title': 'The Farewell', 'rotten_score': 99},\n",
       " {'title': 'The Art of Self-Defense', 'rotten_score': 83},\n",
       " {'title': 'The Lion King', 'rotten_score': 52},\n",
       " {'title': 'Once Upon a Time ... in Hollywood', 'rotten_score': 85},\n",
       " {'title': 'Fast & Furious Presents: Hobbs & Shaw', 'rotten_score': 67},\n",
       " {'title': 'Scary Stories to Tell in the Dark', 'rotten_score': 79},\n",
       " {'title': 'Dora and the Lost City of Gold', 'rotten_score': 83},\n",
       " {'title': 'The Kitchen', 'rotten_score': 21},\n",
       " {'title': 'The Art of Racing in the Rain', 'rotten_score': 43},\n",
       " {'title': 'The Angry Birds Movie 2', 'rotten_score': 72},\n",
       " {'title': 'Good Boys', 'rotten_score': 79},\n",
       " {'title': \"Where'd You Go, Bernadette\", 'rotten_score': 46},\n",
       " {'title': 'Ready or Not', 'rotten_score': 87},\n",
       " {'title': 'It Chapter Two', 'rotten_score': 68},\n",
       " {'title': 'The Goldfinch', 'rotten_score': 'NA'},\n",
       " {'title': 'Hustlers', 'rotten_score': 'NA'},\n",
       " {'title': 'Ad Astra', 'rotten_score': 84},\n",
       " {'title': 'Rambo: Last Blood', 'rotten_score': 'NA'},\n",
       " {'title': 'Downton Abbey', 'rotten_score': 'NA'},\n",
       " {'title': 'Abominable', 'rotten_score': 'NA'},\n",
       " {'title': 'The Hunt', 'Rotten_Score': 'NA'},\n",
       " {'title': 'Doom: Annihilation', 'rotten_score': 'NA'},\n",
       " {'title': 'Joker', 'rotten_score': 85},\n",
       " {'title': 'Lucy in the Sky', 'rotten_score': 'NA'},\n",
       " {'title': 'Gemini Man', 'rotten_score': 'NA'},\n",
       " {'title': 'Zombieland: Double Tap', 'rotten_score': 'NA'},\n",
       " {'title': 'The Addams Family', 'rotten_score': 'NA'},\n",
       " {'title': 'Maleficent: Mistress of Evil', 'rotten_score': 'NA'},\n",
       " {'title': 'Jojo Rabbit', 'rotten_score': 'NA'},\n",
       " {'title': 'Eli', 'Rotten_Score': 'NA'},\n",
       " {'title': 'Terminator: Dark Fate', 'rotten_score': 'NA'},\n",
       " {'title': 'Harriet', 'rotten_score': 'NA'},\n",
       " {'title': 'Motherless Brooklyn', 'rotten_score': 78},\n",
       " {'title': 'Doctor Sleep', 'rotten_score': 'NA'},\n",
       " {'title': 'Ford v Ferrari', 'rotten_score': 100},\n",
       " {'title': \"Charlie's Angels\", 'rotten_score': 'NA'},\n",
       " {'title': 'The Good Liar', 'rotten_score': 'NA'},\n",
       " {'title': 'Last Christmas', 'Rotten_Score': 'NA'},\n",
       " {'title': 'Frozen II', 'Rotten_Score': 'NA'},\n",
       " {'title': 'A Beautiful Day in the Neighborhood', 'rotten_score': 'NA'},\n",
       " {'title': 'The Rhythm Section', 'rotten_score': 'NA'},\n",
       " {'title': 'Knives Out', 'rotten_score': 'NA'},\n",
       " {'title': 'Queen & Slim', 'rotten_score': 'NA'},\n",
       " {'title': 'Jumanji: The Next Level', 'rotten_score': 'NA'},\n",
       " {'title': 'Playmobil: The Movie', 'rotten_score': 18},\n",
       " {'title': 'Black Christmas', 'rotten_score': 'NA'},\n",
       " {'title': 'Star Wars: The Rise of Skywalker', 'rotten_score': 'NA'},\n",
       " {'title': 'Cats', 'rotten_score': 91},\n",
       " {'title': '1917', 'rotten_score': 'NA'},\n",
       " {'title': 'Little Women', 'rotten_score': 'NA'},\n",
       " {'title': 'Spies in Disguise', 'rotten_score': 'NA'},\n",
       " {'title': 'Superintelligence', 'rotten_score': 'NA'},\n",
       " {'title': 'Wendy', 'Rotten_Score': 'NA'}]"
      ]
     },
     "execution_count": 18,
     "metadata": {},
     "output_type": "execute_result"
    }
   ],
   "source": [
    "#Display the results \n",
    "rotten_score"
   ]
  },
  {
   "cell_type": "markdown",
   "metadata": {},
   "source": [
    "### Set up MongoDB connection and client\n",
    "\n",
    "#### Note: make sure `mongod` is running on a terminal"
   ]
  },
  {
   "cell_type": "code",
   "execution_count": 19,
   "metadata": {},
   "outputs": [],
   "source": [
    "import pymongo "
   ]
  },
  {
   "cell_type": "code",
   "execution_count": 20,
   "metadata": {},
   "outputs": [],
   "source": [
    "conn = 'mongodb://localhost:27017'\n",
    "client = pymongo.MongoClient(conn)"
   ]
  },
  {
   "cell_type": "markdown",
   "metadata": {},
   "source": [
    "#### Create a new database"
   ]
  },
  {
   "cell_type": "code",
   "execution_count": 21,
   "metadata": {},
   "outputs": [],
   "source": [
    "db = client.IMDB"
   ]
  },
  {
   "cell_type": "code",
   "execution_count": 22,
   "metadata": {},
   "outputs": [
    {
     "data": {
      "text/plain": [
       "Collection(Database(MongoClient(host=['localhost:27017'], document_class=dict, tz_aware=False, connect=True), 'IMDB'), 'rotten_info_db')"
      ]
     },
     "execution_count": 22,
     "metadata": {},
     "output_type": "execute_result"
    }
   ],
   "source": [
    "#Declare collection 'movies_info_db'\n",
    "db.rotten_info_db"
   ]
  },
  {
   "cell_type": "code",
   "execution_count": 23,
   "metadata": {},
   "outputs": [
    {
     "data": {
      "text/plain": [
       "<pymongo.cursor.Cursor at 0x11a4be588>"
      ]
     },
     "execution_count": 23,
     "metadata": {},
     "output_type": "execute_result"
    }
   ],
   "source": [
    "#Insert into database\n",
    "for i in rotten_score:\n",
    "    db.rotten_info_db.insert_one(i)\n",
    "\n",
    "db.rotten_info_db.find()"
   ]
  },
  {
   "cell_type": "code",
   "execution_count": null,
   "metadata": {},
   "outputs": [],
   "source": []
  }
 ],
 "metadata": {
  "kernelspec": {
   "display_name": "Python 3",
   "language": "python",
   "name": "python3"
  },
  "language_info": {
   "codemirror_mode": {
    "name": "ipython",
    "version": 3
   },
   "file_extension": ".py",
   "mimetype": "text/x-python",
   "name": "python",
   "nbconvert_exporter": "python",
   "pygments_lexer": "ipython3",
   "version": "3.7.3"
  }
 },
 "nbformat": 4,
 "nbformat_minor": 2
}
