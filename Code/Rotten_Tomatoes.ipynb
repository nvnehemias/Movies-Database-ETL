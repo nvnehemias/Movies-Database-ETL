{
 "cells": [
  {
   "cell_type": "markdown",
   "metadata": {},
   "source": [
    "### ETL Project"
   ]
  },
  {
   "cell_type": "markdown",
   "metadata": {},
   "source": [
    "#### Required: pip install rotten_tomatoes_client"
   ]
  },
  {
   "cell_type": "code",
   "execution_count": 1,
   "metadata": {},
   "outputs": [],
   "source": [
    "#!pip install rotten_tomatoes_client"
   ]
  },
  {
   "cell_type": "markdown",
   "metadata": {},
   "source": [
    "#### List all 2019 movies from CVS for use by IMDB API calls"
   ]
  },
  {
   "cell_type": "code",
   "execution_count": 2,
   "metadata": {},
   "outputs": [],
   "source": [
    "# dependencies\n",
    "import pandas as pd\n",
    "import os\n",
    "import csv"
   ]
  },
  {
   "cell_type": "code",
   "execution_count": 3,
   "metadata": {},
   "outputs": [
    {
     "data": {
      "text/html": [
       "<div>\n",
       "<style scoped>\n",
       "    .dataframe tbody tr th:only-of-type {\n",
       "        vertical-align: middle;\n",
       "    }\n",
       "\n",
       "    .dataframe tbody tr th {\n",
       "        vertical-align: top;\n",
       "    }\n",
       "\n",
       "    .dataframe thead th {\n",
       "        text-align: right;\n",
       "    }\n",
       "</style>\n",
       "<table border=\"1\" class=\"dataframe\">\n",
       "  <thead>\n",
       "    <tr style=\"text-align: right;\">\n",
       "      <th></th>\n",
       "      <th>Position</th>\n",
       "      <th>Const</th>\n",
       "      <th>Created</th>\n",
       "      <th>Modified</th>\n",
       "      <th>Description</th>\n",
       "      <th>Title</th>\n",
       "      <th>URL</th>\n",
       "      <th>Title Type</th>\n",
       "      <th>IMDb Rating</th>\n",
       "      <th>Runtime (mins)</th>\n",
       "      <th>Year</th>\n",
       "      <th>Genres</th>\n",
       "      <th>Num Votes</th>\n",
       "      <th>Release Date</th>\n",
       "      <th>Directors</th>\n",
       "    </tr>\n",
       "  </thead>\n",
       "  <tbody>\n",
       "    <tr>\n",
       "      <th>0</th>\n",
       "      <td>1</td>\n",
       "      <td>tt6823368</td>\n",
       "      <td>2018-09-03</td>\n",
       "      <td>2019-07-07</td>\n",
       "      <td>Release date - January 18th\\nStudio - Universa...</td>\n",
       "      <td>Glass</td>\n",
       "      <td>https://www.imdb.com/title/tt6823368/</td>\n",
       "      <td>movie</td>\n",
       "      <td>6.7</td>\n",
       "      <td>129.0</td>\n",
       "      <td>2019.0</td>\n",
       "      <td>Drama, Sci-Fi, Thriller</td>\n",
       "      <td>150546.0</td>\n",
       "      <td>2019-01-07</td>\n",
       "      <td>M. Night Shyamalan</td>\n",
       "    </tr>\n",
       "    <tr>\n",
       "      <th>1</th>\n",
       "      <td>2</td>\n",
       "      <td>tt6811018</td>\n",
       "      <td>2018-09-03</td>\n",
       "      <td>2019-07-07</td>\n",
       "      <td>Release date - January 25th\\nStudio - Twentiet...</td>\n",
       "      <td>The Kid Who Would Be King</td>\n",
       "      <td>https://www.imdb.com/title/tt6811018/</td>\n",
       "      <td>movie</td>\n",
       "      <td>6.0</td>\n",
       "      <td>120.0</td>\n",
       "      <td>2019.0</td>\n",
       "      <td>Action, Adventure, Family, Fantasy</td>\n",
       "      <td>9512.0</td>\n",
       "      <td>2019-01-16</td>\n",
       "      <td>Joe Cornish</td>\n",
       "    </tr>\n",
       "    <tr>\n",
       "      <th>2</th>\n",
       "      <td>3</td>\n",
       "      <td>tt5941692</td>\n",
       "      <td>2018-11-18</td>\n",
       "      <td>2019-07-07</td>\n",
       "      <td>Release date - February 1st\\nStudio - Sony Pic...</td>\n",
       "      <td>Miss Bala</td>\n",
       "      <td>https://www.imdb.com/title/tt5941692/</td>\n",
       "      <td>movie</td>\n",
       "      <td>5.6</td>\n",
       "      <td>104.0</td>\n",
       "      <td>2019.0</td>\n",
       "      <td>Action, Crime, Drama, Thriller</td>\n",
       "      <td>4612.0</td>\n",
       "      <td>2019-01-25</td>\n",
       "      <td>Catherine Hardwicke</td>\n",
       "    </tr>\n",
       "    <tr>\n",
       "      <th>3</th>\n",
       "      <td>4</td>\n",
       "      <td>tt3513498</td>\n",
       "      <td>2018-09-03</td>\n",
       "      <td>2019-07-07</td>\n",
       "      <td>Release date - February 8th\\nStudio - Warner B...</td>\n",
       "      <td>The Lego Movie 2: The Second Part</td>\n",
       "      <td>https://www.imdb.com/title/tt3513498/</td>\n",
       "      <td>movie</td>\n",
       "      <td>6.7</td>\n",
       "      <td>107.0</td>\n",
       "      <td>2019.0</td>\n",
       "      <td>Animation, Action, Adventure, Comedy, Family, ...</td>\n",
       "      <td>36374.0</td>\n",
       "      <td>2019-02-06</td>\n",
       "      <td>Mike Mitchell</td>\n",
       "    </tr>\n",
       "    <tr>\n",
       "      <th>4</th>\n",
       "      <td>5</td>\n",
       "      <td>tt7634968</td>\n",
       "      <td>2018-09-03</td>\n",
       "      <td>2019-07-07</td>\n",
       "      <td>Release date - February 8th\\nStudio - Paramoun...</td>\n",
       "      <td>What Men Want</td>\n",
       "      <td>https://www.imdb.com/title/tt7634968/</td>\n",
       "      <td>movie</td>\n",
       "      <td>5.1</td>\n",
       "      <td>117.0</td>\n",
       "      <td>2019.0</td>\n",
       "      <td>Comedy, Fantasy, Romance</td>\n",
       "      <td>12466.0</td>\n",
       "      <td>2019-01-10</td>\n",
       "      <td>Adam Shankman</td>\n",
       "    </tr>\n",
       "  </tbody>\n",
       "</table>\n",
       "</div>"
      ],
      "text/plain": [
       "   Position      Const     Created    Modified  \\\n",
       "0         1  tt6823368  2018-09-03  2019-07-07   \n",
       "1         2  tt6811018  2018-09-03  2019-07-07   \n",
       "2         3  tt5941692  2018-11-18  2019-07-07   \n",
       "3         4  tt3513498  2018-09-03  2019-07-07   \n",
       "4         5  tt7634968  2018-09-03  2019-07-07   \n",
       "\n",
       "                                         Description  \\\n",
       "0  Release date - January 18th\\nStudio - Universa...   \n",
       "1  Release date - January 25th\\nStudio - Twentiet...   \n",
       "2  Release date - February 1st\\nStudio - Sony Pic...   \n",
       "3  Release date - February 8th\\nStudio - Warner B...   \n",
       "4  Release date - February 8th\\nStudio - Paramoun...   \n",
       "\n",
       "                               Title                                    URL  \\\n",
       "0                              Glass  https://www.imdb.com/title/tt6823368/   \n",
       "1          The Kid Who Would Be King  https://www.imdb.com/title/tt6811018/   \n",
       "2                          Miss Bala  https://www.imdb.com/title/tt5941692/   \n",
       "3  The Lego Movie 2: The Second Part  https://www.imdb.com/title/tt3513498/   \n",
       "4                      What Men Want  https://www.imdb.com/title/tt7634968/   \n",
       "\n",
       "  Title Type  IMDb Rating  Runtime (mins)    Year  \\\n",
       "0      movie          6.7           129.0  2019.0   \n",
       "1      movie          6.0           120.0  2019.0   \n",
       "2      movie          5.6           104.0  2019.0   \n",
       "3      movie          6.7           107.0  2019.0   \n",
       "4      movie          5.1           117.0  2019.0   \n",
       "\n",
       "                                              Genres  Num Votes Release Date  \\\n",
       "0                            Drama, Sci-Fi, Thriller   150546.0   2019-01-07   \n",
       "1                 Action, Adventure, Family, Fantasy     9512.0   2019-01-16   \n",
       "2                     Action, Crime, Drama, Thriller     4612.0   2019-01-25   \n",
       "3  Animation, Action, Adventure, Comedy, Family, ...    36374.0   2019-02-06   \n",
       "4                           Comedy, Fantasy, Romance    12466.0   2019-01-10   \n",
       "\n",
       "             Directors  \n",
       "0   M. Night Shyamalan  \n",
       "1          Joe Cornish  \n",
       "2  Catherine Hardwicke  \n",
       "3        Mike Mitchell  \n",
       "4        Adam Shankman  "
      ]
     },
     "execution_count": 3,
     "metadata": {},
     "output_type": "execute_result"
    }
   ],
   "source": [
    "# store filepath in a variable\n",
    "data_file = \"../Data/all_2019_movies.csv\"\n",
    "# Read file with the pandas library\n",
    "data_file_df = pd.read_csv(data_file, encoding=\"ISO-8859-1\")\n",
    "# show header\n",
    "data_file_df.head()"
   ]
  },
  {
   "cell_type": "code",
   "execution_count": 4,
   "metadata": {},
   "outputs": [],
   "source": [
    "titles_df = data_file_df.loc[:, [\"Title\"]].values.tolist()"
   ]
  },
  {
   "cell_type": "code",
   "execution_count": 5,
   "metadata": {
    "scrolled": true
   },
   "outputs": [
    {
     "data": {
      "text/plain": [
       "['Glass',\n",
       " 'The Kid Who Would Be King',\n",
       " 'Miss Bala',\n",
       " 'The Lego Movie 2: The Second Part',\n",
       " 'What Men Want',\n",
       " 'Alita: Battle Angel',\n",
       " 'Fighting with My Family',\n",
       " \"Isn't It Romantic\",\n",
       " 'Happy Death Day 2U',\n",
       " 'How to Train Your Dragon: The Hidden World',\n",
       " 'A Madea Family Funeral',\n",
       " 'Captain Marvel',\n",
       " 'The Kid',\n",
       " 'Wonder Park',\n",
       " 'The Hummingbird Project',\n",
       " 'The Aftermath',\n",
       " 'Us',\n",
       " 'Hotel Mumbai',\n",
       " 'Dumbo',\n",
       " 'The Beach Bum',\n",
       " 'Shazam!',\n",
       " 'Pet Sematary',\n",
       " 'The Best of Enemies',\n",
       " 'Hellboy',\n",
       " 'Little',\n",
       " 'Missing Link',\n",
       " 'The Curse of La Llorona',\n",
       " 'Avengers: Endgame',\n",
       " 'UglyDolls',\n",
       " 'Long Shot',\n",
       " 'Pokémon Detective Pikachu',\n",
       " 'The Hustle',\n",
       " 'Tolkien',\n",
       " 'John Wick: Chapter 3 - Parabellum',\n",
       " \"A Dog's Journey\",\n",
       " 'Aladdin',\n",
       " 'Brightburn',\n",
       " 'Booksmart',\n",
       " 'Godzilla: King of the Monsters',\n",
       " 'Rocketman',\n",
       " 'Dark Phoenix',\n",
       " 'The Secret Life of Pets 2',\n",
       " 'Men in Black: International',\n",
       " 'Shaft',\n",
       " 'Toy Story 4',\n",
       " \"Child's Play\",\n",
       " 'Annabelle Comes Home',\n",
       " 'Yesterday',\n",
       " 'Spider-Man: Far from Home',\n",
       " 'Stuber',\n",
       " 'Crawl',\n",
       " 'The Farewell',\n",
       " 'The Art of Self-Defense',\n",
       " 'The Lion King',\n",
       " 'Once Upon a Time ... in Hollywood',\n",
       " 'Fast & Furious Presents: Hobbs & Shaw',\n",
       " 'Scary Stories to Tell in the Dark',\n",
       " 'Dora and the Lost City of Gold',\n",
       " 'The Kitchen',\n",
       " 'The Art of Racing in the Rain',\n",
       " 'The Angry Birds Movie 2',\n",
       " 'Good Boys',\n",
       " \"Where'd You Go, Bernadette\",\n",
       " 'Ready or Not',\n",
       " 'It Chapter Two',\n",
       " 'The Goldfinch',\n",
       " 'Hustlers',\n",
       " 'Ad Astra',\n",
       " 'Rambo: Last Blood',\n",
       " 'Downton Abbey',\n",
       " 'Abominable',\n",
       " 'The Hunt',\n",
       " 'Doom: Annihilation',\n",
       " 'Joker',\n",
       " 'Lucy in the Sky',\n",
       " 'Gemini Man',\n",
       " 'Zombieland: Double Tap',\n",
       " 'The Addams Family',\n",
       " 'Maleficent: Mistress of Evil',\n",
       " 'Jojo Rabbit',\n",
       " 'Eli',\n",
       " 'Terminator: Dark Fate',\n",
       " 'Harriet',\n",
       " 'Motherless Brooklyn',\n",
       " 'Doctor Sleep',\n",
       " 'Ford v Ferrari',\n",
       " \"Charlie's Angels\",\n",
       " 'The Good Liar',\n",
       " 'Last Christmas',\n",
       " 'Frozen II',\n",
       " 'A Beautiful Day in the Neighborhood',\n",
       " 'The Rhythm Section',\n",
       " 'Knives Out',\n",
       " 'Queen & Slim',\n",
       " 'Jumanji: The Next Level',\n",
       " 'Playmobil: The Movie',\n",
       " 'Black Christmas',\n",
       " 'Star Wars: The Rise of Skywalker',\n",
       " 'Cats',\n",
       " '1917',\n",
       " 'Little Women',\n",
       " 'Spies in Disguise',\n",
       " 'Superintelligence',\n",
       " 'Wendy']"
      ]
     },
     "execution_count": 5,
     "metadata": {},
     "output_type": "execute_result"
    }
   ],
   "source": [
    "#my_list returns a list of movie names from csv file\n",
    "movies_2019_list = []\n",
    "for i in titles_df:\n",
    "    movies_2019_list.append(i[0])\n",
    "movies_2019_list"
   ]
  },
  {
   "cell_type": "markdown",
   "metadata": {},
   "source": [
    "# Rotten Tomatoes Work"
   ]
  },
  {
   "cell_type": "code",
   "execution_count": 6,
   "metadata": {},
   "outputs": [],
   "source": [
    "#Import Dependencies from rotten tomatoes \n",
    "from rotten_tomatoes_client import RottenTomatoesClient, MovieBrowsingQuery, Service, Genre, SortBy, MovieBrowsingCategory\n"
   ]
  },
  {
   "cell_type": "code",
   "execution_count": 7,
   "metadata": {},
   "outputs": [],
   "source": [
    "#Function that loops through a list and attains the rotten tomatoes score of the corresponding movie\n",
    "def check_movie_2019(movie_list:list):\n",
    "    rotten_tomatoes_list = []\n",
    "    for j in movie_list:\n",
    "        try:\n",
    "            rotten_movie = RottenTomatoesClient.search(term = j)    \n",
    "            for i in range(len(rotten_movie[\"movies\"])):\n",
    "                rotten_score = {}\n",
    "                try:\n",
    "                    if rotten_movie[\"movies\"][i][\"year\"] == 2019:\n",
    "                        rotten_score[\"title\"] = j\n",
    "                        rotten_score[\"Rotten_Score\"] = rotten_movie[\"movies\"][i][\"meterScore\"]\n",
    "                        break\n",
    "                    else:\n",
    "                        rotten_score[\"title\"] = j\n",
    "                        rotten_score[\"Rotten_Score\"] = \"NA\"\n",
    "                except:\n",
    "                    rotten_score[\"title\"] = j\n",
    "                    rotten_score[\"Rotten_Score\"] = \"NA\"\n",
    "        except:\n",
    "            rotten_score[\"title\"] = f\"{j}\"\n",
    "            rotten_score[\"Rotten_Score\"] = \"NA\"\n",
    "\n",
    "                \n",
    "        rotten_tomatoes_list.append(rotten_score)\n",
    "    return rotten_tomatoes_list\n",
    "    print(rotten_tomatoes_list)"
   ]
  },
  {
   "cell_type": "code",
   "execution_count": 8,
   "metadata": {},
   "outputs": [],
   "source": [
    "#Run through out list of 2019 movies\n",
    "rotten_score = check_movie_2019(movies_2019_list)"
   ]
  },
  {
   "cell_type": "code",
   "execution_count": 9,
   "metadata": {},
   "outputs": [
    {
     "data": {
      "text/plain": [
       "[{'title': 'Glass', 'Rotten_Score': 37},\n",
       " {'title': 'The Kid Who Would Be King', 'Rotten_Score': 89},\n",
       " {'title': 'Miss Bala', 'Rotten_Score': 23},\n",
       " {'title': 'The Lego Movie 2: The Second Part', 'Rotten_Score': 85},\n",
       " {'title': 'What Men Want', 'Rotten_Score': 44},\n",
       " {'title': 'Alita: Battle Angel', 'Rotten_Score': 60},\n",
       " {'title': 'Fighting with My Family', 'Rotten_Score': 92},\n",
       " {'title': \"Isn't It Romantic\", 'Rotten_Score': 69},\n",
       " {'title': 'Happy Death Day 2U', 'Rotten_Score': 70},\n",
       " {'title': 'How to Train Your Dragon: The Hidden World', 'Rotten_Score': 91},\n",
       " {'title': 'A Madea Family Funeral', 'Rotten_Score': 12},\n",
       " {'title': 'Captain Marvel', 'Rotten_Score': 78},\n",
       " {'title': 'The Kid', 'Rotten_Score': 'NA'},\n",
       " {'title': 'Wonder Park', 'Rotten_Score': 34},\n",
       " {'title': 'The Hummingbird Project', 'Rotten_Score': 58},\n",
       " {'title': 'The Aftermath', 'Rotten_Score': 27},\n",
       " {'title': 'Us', 'Rotten_Score': 93},\n",
       " {'title': 'Hotel Mumbai', 'Rotten_Score': 77},\n",
       " {'title': 'Dumbo', 'Rotten_Score': 47},\n",
       " {'title': 'The Beach Bum', 'Rotten_Score': 56},\n",
       " {'title': 'Shazam!', 'Rotten_Score': 91},\n",
       " {'title': 'Pet Sematary', 'Rotten_Score': 58},\n",
       " {'title': 'The Best of Enemies', 'Rotten_Score': 53},\n",
       " {'title': 'Hellboy', 'Rotten_Score': 17},\n",
       " {'title': 'Little', 'Rotten_Score': 46},\n",
       " {'title': 'Missing Link', 'Rotten_Score': 89},\n",
       " {'title': 'The Curse of La Llorona', 'Rotten_Score': 30},\n",
       " {'title': 'Avengers: Endgame', 'Rotten_Score': 94},\n",
       " {'title': 'UglyDolls', 'Rotten_Score': 27},\n",
       " {'title': 'Long Shot', 'Rotten_Score': 81},\n",
       " {'title': 'Pokémon Detective Pikachu', 'Rotten_Score': 68},\n",
       " {'title': 'The Hustle', 'Rotten_Score': 14},\n",
       " {'title': 'Tolkien', 'Rotten_Score': 51},\n",
       " {'title': 'John Wick: Chapter 3 - Parabellum', 'Rotten_Score': 90},\n",
       " {'title': \"A Dog's Journey\", 'Rotten_Score': 50},\n",
       " {'title': 'Aladdin', 'Rotten_Score': 57},\n",
       " {'title': 'Brightburn', 'Rotten_Score': 57},\n",
       " {'title': 'Booksmart', 'Rotten_Score': 97},\n",
       " {'title': 'Godzilla: King of the Monsters', 'Rotten_Score': 41},\n",
       " {'title': 'Rocketman', 'Rotten_Score': 89},\n",
       " {'title': 'Dark Phoenix', 'Rotten_Score': 23},\n",
       " {'title': 'The Secret Life of Pets 2', 'Rotten_Score': 60},\n",
       " {'title': 'Men in Black: International', 'Rotten_Score': 22},\n",
       " {'title': 'Shaft', 'Rotten_Score': 32},\n",
       " {'title': 'Toy Story 4', 'Rotten_Score': 97},\n",
       " {'title': \"Child's Play\", 'Rotten_Score': 64},\n",
       " {'title': 'Annabelle Comes Home', 'Rotten_Score': 65},\n",
       " {'title': 'Yesterday', 'Rotten_Score': 63},\n",
       " {'title': 'Spider-Man: Far from Home', 'Rotten_Score': 90},\n",
       " {'title': 'Stuber', 'Rotten_Score': 42},\n",
       " {'title': 'Crawl', 'Rotten_Score': 82},\n",
       " {'title': 'The Farewell', 'Rotten_Score': 99},\n",
       " {'title': 'The Art of Self-Defense', 'Rotten_Score': 83},\n",
       " {'title': 'The Lion King', 'Rotten_Score': 52},\n",
       " {'title': 'Once Upon a Time ... in Hollywood', 'Rotten_Score': 85},\n",
       " {'title': 'Fast & Furious Presents: Hobbs & Shaw', 'Rotten_Score': 67},\n",
       " {'title': 'Scary Stories to Tell in the Dark', 'Rotten_Score': 79},\n",
       " {'title': 'Dora and the Lost City of Gold', 'Rotten_Score': 83},\n",
       " {'title': 'The Kitchen', 'Rotten_Score': 21},\n",
       " {'title': 'The Art of Racing in the Rain', 'Rotten_Score': 43},\n",
       " {'title': 'The Angry Birds Movie 2', 'Rotten_Score': 72},\n",
       " {'title': 'Good Boys', 'Rotten_Score': 79},\n",
       " {'title': \"Where'd You Go, Bernadette\", 'Rotten_Score': 46},\n",
       " {'title': 'Ready or Not', 'Rotten_Score': 87},\n",
       " {'title': 'It Chapter Two', 'Rotten_Score': 67},\n",
       " {'title': 'The Goldfinch', 'Rotten_Score': 'NA'},\n",
       " {'title': 'Hustlers', 'Rotten_Score': 'NA'},\n",
       " {'title': 'Ad Astra', 'Rotten_Score': 87},\n",
       " {'title': 'Rambo: Last Blood', 'Rotten_Score': 'NA'},\n",
       " {'title': 'Downton Abbey', 'Rotten_Score': 'NA'},\n",
       " {'title': 'Abominable', 'Rotten_Score': 'NA'},\n",
       " {'title': 'The Hunt', 'Rotten_Score': 'NA'},\n",
       " {'title': 'Doom: Annihilation', 'Rotten_Score': 'NA'},\n",
       " {'title': 'Joker', 'Rotten_Score': 84},\n",
       " {'title': 'Lucy in the Sky', 'Rotten_Score': 'NA'},\n",
       " {'title': 'Gemini Man', 'Rotten_Score': 'NA'},\n",
       " {'title': 'Zombieland: Double Tap', 'Rotten_Score': 'NA'},\n",
       " {'title': 'The Addams Family', 'Rotten_Score': 'NA'},\n",
       " {'title': 'Maleficent: Mistress of Evil', 'Rotten_Score': 'NA'},\n",
       " {'title': 'Jojo Rabbit', 'Rotten_Score': 'NA'},\n",
       " {'title': 'Eli', 'Rotten_Score': 'NA'},\n",
       " {'title': 'Terminator: Dark Fate', 'Rotten_Score': 'NA'},\n",
       " {'title': 'Harriet', 'Rotten_Score': 'NA'},\n",
       " {'title': 'Motherless Brooklyn', 'Rotten_Score': 78},\n",
       " {'title': 'Doctor Sleep', 'Rotten_Score': 'NA'},\n",
       " {'title': 'Ford v Ferrari', 'Rotten_Score': 100},\n",
       " {'title': \"Charlie's Angels\", 'Rotten_Score': 'NA'},\n",
       " {'title': 'The Good Liar', 'Rotten_Score': 'NA'},\n",
       " {'title': 'Last Christmas', 'Rotten_Score': 'NA'},\n",
       " {'title': 'Frozen II', 'Rotten_Score': 'NA'},\n",
       " {'title': 'A Beautiful Day in the Neighborhood', 'Rotten_Score': 'NA'},\n",
       " {'title': 'The Rhythm Section', 'Rotten_Score': 'NA'},\n",
       " {'title': 'Knives Out', 'Rotten_Score': 'NA'},\n",
       " {'title': 'Queen & Slim', 'Rotten_Score': 'NA'},\n",
       " {'title': 'Jumanji: The Next Level', 'Rotten_Score': 'NA'},\n",
       " {'title': 'Playmobil: The Movie', 'Rotten_Score': 18},\n",
       " {'title': 'Black Christmas', 'Rotten_Score': 'NA'},\n",
       " {'title': 'Star Wars: The Rise of Skywalker', 'Rotten_Score': 'NA'},\n",
       " {'title': 'Cats', 'Rotten_Score': 91},\n",
       " {'title': '1917', 'Rotten_Score': 'NA'},\n",
       " {'title': 'Little Women', 'Rotten_Score': 'NA'},\n",
       " {'title': 'Spies in Disguise', 'Rotten_Score': 'NA'},\n",
       " {'title': 'Superintelligence', 'Rotten_Score': 'NA'},\n",
       " {'title': 'Wendy', 'Rotten_Score': 'NA'}]"
      ]
     },
     "execution_count": 9,
     "metadata": {},
     "output_type": "execute_result"
    }
   ],
   "source": [
    "#Display the results \n",
    "rotten_score"
   ]
  },
  {
   "cell_type": "markdown",
   "metadata": {},
   "source": [
    "### Set up MongoDB connection and client\n",
    "\n",
    "#### Note: make sure `mongod` is running on a terminal"
   ]
  },
  {
   "cell_type": "code",
   "execution_count": 10,
   "metadata": {},
   "outputs": [],
   "source": [
    "import pymongo "
   ]
  },
  {
   "cell_type": "code",
   "execution_count": 11,
   "metadata": {},
   "outputs": [],
   "source": [
    "conn = 'mongodb://localhost:27017'\n",
    "client = pymongo.MongoClient(conn)"
   ]
  },
  {
   "cell_type": "markdown",
   "metadata": {},
   "source": [
    "#### Create a new database"
   ]
  },
  {
   "cell_type": "code",
   "execution_count": 12,
   "metadata": {},
   "outputs": [],
   "source": [
    "db = client.IMDB"
   ]
  },
  {
   "cell_type": "code",
   "execution_count": 13,
   "metadata": {},
   "outputs": [
    {
     "data": {
      "text/plain": [
       "Collection(Database(MongoClient(host=['localhost:27017'], document_class=dict, tz_aware=False, connect=True), 'IMDB'), 'rotten_info_db')"
      ]
     },
     "execution_count": 13,
     "metadata": {},
     "output_type": "execute_result"
    }
   ],
   "source": [
    "#Declare collection 'movies_info_db'\n",
    "db.rotten_info_db"
   ]
  },
  {
   "cell_type": "code",
   "execution_count": 15,
   "metadata": {},
   "outputs": [
    {
     "data": {
      "text/plain": [
       "<pymongo.cursor.Cursor at 0x11a23ada0>"
      ]
     },
     "execution_count": 15,
     "metadata": {},
     "output_type": "execute_result"
    }
   ],
   "source": [
    "#Insert into database\n",
    "for i in rotten_score:\n",
    "    db.rotten_info_db.insert_one(i)\n",
    "\n",
    "db.rotten_info_db.find()"
   ]
  },
  {
   "cell_type": "code",
   "execution_count": null,
   "metadata": {},
   "outputs": [],
   "source": []
  }
 ],
 "metadata": {
  "kernelspec": {
   "display_name": "Python 3",
   "language": "python",
   "name": "python3"
  },
  "language_info": {
   "codemirror_mode": {
    "name": "ipython",
    "version": 3
   },
   "file_extension": ".py",
   "mimetype": "text/x-python",
   "name": "python",
   "nbconvert_exporter": "python",
   "pygments_lexer": "ipython3",
   "version": "3.7.3"
  }
 },
 "nbformat": 4,
 "nbformat_minor": 2
}
